{
  "nbformat": 4,
  "nbformat_minor": 0,
  "metadata": {
    "colab": {
      "provenance": []
    },
    "kernelspec": {
      "name": "python3",
      "display_name": "Python 3"
    },
    "language_info": {
      "name": "python"
    }
  },
  "cells": [
    {
      "cell_type": "code",
      "execution_count": null,
      "metadata": {
        "colab": {
          "base_uri": "https://localhost:8080/"
        },
        "id": "d_ZHGAtf-InM",
        "outputId": "12cba048-0451-4f47-f816-8c50fe390fa9"
      },
      "outputs": [
        {
          "output_type": "stream",
          "name": "stdout",
          "text": [
            "Looking in indexes: https://pypi.org/simple, https://us-python.pkg.dev/colab-wheels/public/simple/\n",
            "Collecting yfinance\n",
            "  Downloading yfinance-0.1.77-py2.py3-none-any.whl (28 kB)\n",
            "Requirement already satisfied: lxml>=4.5.1 in /usr/local/lib/python3.7/dist-packages (from yfinance) (4.9.1)\n",
            "Requirement already satisfied: numpy>=1.15 in /usr/local/lib/python3.7/dist-packages (from yfinance) (1.21.6)\n",
            "Requirement already satisfied: pandas>=0.24.0 in /usr/local/lib/python3.7/dist-packages (from yfinance) (1.3.5)\n",
            "Requirement already satisfied: appdirs>=1.4.4 in /usr/local/lib/python3.7/dist-packages (from yfinance) (1.4.4)\n",
            "Requirement already satisfied: multitasking>=0.0.7 in /usr/local/lib/python3.7/dist-packages (from yfinance) (0.0.11)\n",
            "Collecting requests>=2.26\n",
            "  Downloading requests-2.28.1-py3-none-any.whl (62 kB)\n",
            "\u001b[K     |████████████████████████████████| 62 kB 1.7 MB/s \n",
            "\u001b[?25hRequirement already satisfied: python-dateutil>=2.7.3 in /usr/local/lib/python3.7/dist-packages (from pandas>=0.24.0->yfinance) (2.8.2)\n",
            "Requirement already satisfied: pytz>=2017.3 in /usr/local/lib/python3.7/dist-packages (from pandas>=0.24.0->yfinance) (2022.4)\n",
            "Requirement already satisfied: six>=1.5 in /usr/local/lib/python3.7/dist-packages (from python-dateutil>=2.7.3->pandas>=0.24.0->yfinance) (1.15.0)\n",
            "Requirement already satisfied: certifi>=2017.4.17 in /usr/local/lib/python3.7/dist-packages (from requests>=2.26->yfinance) (2022.9.24)\n",
            "Requirement already satisfied: charset-normalizer<3,>=2 in /usr/local/lib/python3.7/dist-packages (from requests>=2.26->yfinance) (2.1.1)\n",
            "Requirement already satisfied: urllib3<1.27,>=1.21.1 in /usr/local/lib/python3.7/dist-packages (from requests>=2.26->yfinance) (1.24.3)\n",
            "Requirement already satisfied: idna<4,>=2.5 in /usr/local/lib/python3.7/dist-packages (from requests>=2.26->yfinance) (2.10)\n",
            "Installing collected packages: requests, yfinance\n",
            "  Attempting uninstall: requests\n",
            "    Found existing installation: requests 2.23.0\n",
            "    Uninstalling requests-2.23.0:\n",
            "      Successfully uninstalled requests-2.23.0\n",
            "Successfully installed requests-2.28.1 yfinance-0.1.77\n"
          ]
        }
      ],
      "source": [
        "# importação de bibliotecas gráficas e matematicas\n",
        "import numpy as np\n",
        "import pandas as pd\n",
        "import matplotlib.pyplot as plt\n",
        "import math\n",
        "\n",
        "# importação da bibliotca yfinance do yahoo finanças, para a extração de dados direto do site\n",
        "try:\n",
        "  import yfinance as yf\n",
        "except:\n",
        "  ! pip install yfinance\n",
        "  import yfinance as yf\n",
        "\n",
        "# importação das bibliotecas de configurações da rede neural\n",
        "import tensorflow as tf\n",
        "from tensorflow.keras.models import Sequential\n",
        "from tensorflow.keras.layers import Dense, LSTM, Dropout\n",
        "import sklearn\n",
        "from sklearn.preprocessing import MinMaxScaler\n",
        "\n",
        "# para pegar a maior "
      ]
    },
    {
      "cell_type": "code",
      "source": [
        "data_frame = yf.download(tickers='ABEV3.SA', start='2007-08-01', end='2022-10-16')"
      ],
      "metadata": {
        "colab": {
          "base_uri": "https://localhost:8080/"
        },
        "id": "kX4JyGHI-mwT",
        "outputId": "ae8bcec3-3c3b-48c8-800a-081b2f8ff5b9"
      },
      "execution_count": null,
      "outputs": [
        {
          "output_type": "stream",
          "name": "stdout",
          "text": [
            "\r[*********************100%***********************]  1 of 1 completed\n"
          ]
        }
      ]
    },
    {
      "cell_type": "code",
      "source": [
        "data_frame"
      ],
      "metadata": {
        "colab": {
          "base_uri": "https://localhost:8080/",
          "height": 455
        },
        "id": "KsprpPTA_NaK",
        "outputId": "1023c0dd-fc27-4823-df43-b8a080044c01"
      },
      "execution_count": null,
      "outputs": [
        {
          "output_type": "execute_result",
          "data": {
            "text/plain": [
              "                                Open       High        Low      Close  \\\n",
              "Date                                                                    \n",
              "2007-08-01 00:00:00-03:00   5.230289   5.230289   5.230289   5.230289   \n",
              "2007-08-02 00:00:00-03:00   5.341604   5.341604   5.114259   5.214147   \n",
              "2007-08-03 00:00:00-03:00   5.174192   5.194170   4.998390   5.106268   \n",
              "2007-08-06 00:00:00-03:00   5.042340   5.162605   5.034349   5.162605   \n",
              "2007-08-07 00:00:00-03:00   5.080298   5.174192   5.080298   5.170197   \n",
              "...                              ...        ...        ...        ...   \n",
              "2022-10-07 00:00:00-03:00  15.960000  16.040001  15.300000  15.420000   \n",
              "2022-10-10 00:00:00-03:00  15.460000  15.470000  15.060000  15.200000   \n",
              "2022-10-11 00:00:00-03:00  15.180000  15.270000  14.940000  14.990000   \n",
              "2022-10-13 00:00:00-03:00  14.820000  15.160000  14.700000  15.010000   \n",
              "2022-10-14 00:00:00-03:00  15.020000  15.120000  14.790000  14.830000   \n",
              "\n",
              "                           Adj Close    Volume  \n",
              "Date                                            \n",
              "2007-08-01 00:00:00-03:00   3.229515     85971  \n",
              "2007-08-02 00:00:00-03:00   3.219548   1756969  \n",
              "2007-08-03 00:00:00-03:00   3.152935    265297  \n",
              "2007-08-06 00:00:00-03:00   3.187721    788383  \n",
              "2007-08-07 00:00:00-03:00   3.192410    460516  \n",
              "...                              ...       ...  \n",
              "2022-10-07 00:00:00-03:00  15.420000  40213400  \n",
              "2022-10-10 00:00:00-03:00  15.200000  29475700  \n",
              "2022-10-11 00:00:00-03:00  14.990000  30204200  \n",
              "2022-10-13 00:00:00-03:00  15.010000  25868700  \n",
              "2022-10-14 00:00:00-03:00  14.830000  16971400  \n",
              "\n",
              "[3771 rows x 6 columns]"
            ],
            "text/html": [
              "\n",
              "  <div id=\"df-f6512a8f-81df-4983-8c24-35b4febd12f3\">\n",
              "    <div class=\"colab-df-container\">\n",
              "      <div>\n",
              "<style scoped>\n",
              "    .dataframe tbody tr th:only-of-type {\n",
              "        vertical-align: middle;\n",
              "    }\n",
              "\n",
              "    .dataframe tbody tr th {\n",
              "        vertical-align: top;\n",
              "    }\n",
              "\n",
              "    .dataframe thead th {\n",
              "        text-align: right;\n",
              "    }\n",
              "</style>\n",
              "<table border=\"1\" class=\"dataframe\">\n",
              "  <thead>\n",
              "    <tr style=\"text-align: right;\">\n",
              "      <th></th>\n",
              "      <th>Open</th>\n",
              "      <th>High</th>\n",
              "      <th>Low</th>\n",
              "      <th>Close</th>\n",
              "      <th>Adj Close</th>\n",
              "      <th>Volume</th>\n",
              "    </tr>\n",
              "    <tr>\n",
              "      <th>Date</th>\n",
              "      <th></th>\n",
              "      <th></th>\n",
              "      <th></th>\n",
              "      <th></th>\n",
              "      <th></th>\n",
              "      <th></th>\n",
              "    </tr>\n",
              "  </thead>\n",
              "  <tbody>\n",
              "    <tr>\n",
              "      <th>2007-08-01 00:00:00-03:00</th>\n",
              "      <td>5.230289</td>\n",
              "      <td>5.230289</td>\n",
              "      <td>5.230289</td>\n",
              "      <td>5.230289</td>\n",
              "      <td>3.229515</td>\n",
              "      <td>85971</td>\n",
              "    </tr>\n",
              "    <tr>\n",
              "      <th>2007-08-02 00:00:00-03:00</th>\n",
              "      <td>5.341604</td>\n",
              "      <td>5.341604</td>\n",
              "      <td>5.114259</td>\n",
              "      <td>5.214147</td>\n",
              "      <td>3.219548</td>\n",
              "      <td>1756969</td>\n",
              "    </tr>\n",
              "    <tr>\n",
              "      <th>2007-08-03 00:00:00-03:00</th>\n",
              "      <td>5.174192</td>\n",
              "      <td>5.194170</td>\n",
              "      <td>4.998390</td>\n",
              "      <td>5.106268</td>\n",
              "      <td>3.152935</td>\n",
              "      <td>265297</td>\n",
              "    </tr>\n",
              "    <tr>\n",
              "      <th>2007-08-06 00:00:00-03:00</th>\n",
              "      <td>5.042340</td>\n",
              "      <td>5.162605</td>\n",
              "      <td>5.034349</td>\n",
              "      <td>5.162605</td>\n",
              "      <td>3.187721</td>\n",
              "      <td>788383</td>\n",
              "    </tr>\n",
              "    <tr>\n",
              "      <th>2007-08-07 00:00:00-03:00</th>\n",
              "      <td>5.080298</td>\n",
              "      <td>5.174192</td>\n",
              "      <td>5.080298</td>\n",
              "      <td>5.170197</td>\n",
              "      <td>3.192410</td>\n",
              "      <td>460516</td>\n",
              "    </tr>\n",
              "    <tr>\n",
              "      <th>...</th>\n",
              "      <td>...</td>\n",
              "      <td>...</td>\n",
              "      <td>...</td>\n",
              "      <td>...</td>\n",
              "      <td>...</td>\n",
              "      <td>...</td>\n",
              "    </tr>\n",
              "    <tr>\n",
              "      <th>2022-10-07 00:00:00-03:00</th>\n",
              "      <td>15.960000</td>\n",
              "      <td>16.040001</td>\n",
              "      <td>15.300000</td>\n",
              "      <td>15.420000</td>\n",
              "      <td>15.420000</td>\n",
              "      <td>40213400</td>\n",
              "    </tr>\n",
              "    <tr>\n",
              "      <th>2022-10-10 00:00:00-03:00</th>\n",
              "      <td>15.460000</td>\n",
              "      <td>15.470000</td>\n",
              "      <td>15.060000</td>\n",
              "      <td>15.200000</td>\n",
              "      <td>15.200000</td>\n",
              "      <td>29475700</td>\n",
              "    </tr>\n",
              "    <tr>\n",
              "      <th>2022-10-11 00:00:00-03:00</th>\n",
              "      <td>15.180000</td>\n",
              "      <td>15.270000</td>\n",
              "      <td>14.940000</td>\n",
              "      <td>14.990000</td>\n",
              "      <td>14.990000</td>\n",
              "      <td>30204200</td>\n",
              "    </tr>\n",
              "    <tr>\n",
              "      <th>2022-10-13 00:00:00-03:00</th>\n",
              "      <td>14.820000</td>\n",
              "      <td>15.160000</td>\n",
              "      <td>14.700000</td>\n",
              "      <td>15.010000</td>\n",
              "      <td>15.010000</td>\n",
              "      <td>25868700</td>\n",
              "    </tr>\n",
              "    <tr>\n",
              "      <th>2022-10-14 00:00:00-03:00</th>\n",
              "      <td>15.020000</td>\n",
              "      <td>15.120000</td>\n",
              "      <td>14.790000</td>\n",
              "      <td>14.830000</td>\n",
              "      <td>14.830000</td>\n",
              "      <td>16971400</td>\n",
              "    </tr>\n",
              "  </tbody>\n",
              "</table>\n",
              "<p>3771 rows × 6 columns</p>\n",
              "</div>\n",
              "      <button class=\"colab-df-convert\" onclick=\"convertToInteractive('df-f6512a8f-81df-4983-8c24-35b4febd12f3')\"\n",
              "              title=\"Convert this dataframe to an interactive table.\"\n",
              "              style=\"display:none;\">\n",
              "        \n",
              "  <svg xmlns=\"http://www.w3.org/2000/svg\" height=\"24px\"viewBox=\"0 0 24 24\"\n",
              "       width=\"24px\">\n",
              "    <path d=\"M0 0h24v24H0V0z\" fill=\"none\"/>\n",
              "    <path d=\"M18.56 5.44l.94 2.06.94-2.06 2.06-.94-2.06-.94-.94-2.06-.94 2.06-2.06.94zm-11 1L8.5 8.5l.94-2.06 2.06-.94-2.06-.94L8.5 2.5l-.94 2.06-2.06.94zm10 10l.94 2.06.94-2.06 2.06-.94-2.06-.94-.94-2.06-.94 2.06-2.06.94z\"/><path d=\"M17.41 7.96l-1.37-1.37c-.4-.4-.92-.59-1.43-.59-.52 0-1.04.2-1.43.59L10.3 9.45l-7.72 7.72c-.78.78-.78 2.05 0 2.83L4 21.41c.39.39.9.59 1.41.59.51 0 1.02-.2 1.41-.59l7.78-7.78 2.81-2.81c.8-.78.8-2.07 0-2.86zM5.41 20L4 18.59l7.72-7.72 1.47 1.35L5.41 20z\"/>\n",
              "  </svg>\n",
              "      </button>\n",
              "      \n",
              "  <style>\n",
              "    .colab-df-container {\n",
              "      display:flex;\n",
              "      flex-wrap:wrap;\n",
              "      gap: 12px;\n",
              "    }\n",
              "\n",
              "    .colab-df-convert {\n",
              "      background-color: #E8F0FE;\n",
              "      border: none;\n",
              "      border-radius: 50%;\n",
              "      cursor: pointer;\n",
              "      display: none;\n",
              "      fill: #1967D2;\n",
              "      height: 32px;\n",
              "      padding: 0 0 0 0;\n",
              "      width: 32px;\n",
              "    }\n",
              "\n",
              "    .colab-df-convert:hover {\n",
              "      background-color: #E2EBFA;\n",
              "      box-shadow: 0px 1px 2px rgba(60, 64, 67, 0.3), 0px 1px 3px 1px rgba(60, 64, 67, 0.15);\n",
              "      fill: #174EA6;\n",
              "    }\n",
              "\n",
              "    [theme=dark] .colab-df-convert {\n",
              "      background-color: #3B4455;\n",
              "      fill: #D2E3FC;\n",
              "    }\n",
              "\n",
              "    [theme=dark] .colab-df-convert:hover {\n",
              "      background-color: #434B5C;\n",
              "      box-shadow: 0px 1px 3px 1px rgba(0, 0, 0, 0.15);\n",
              "      filter: drop-shadow(0px 1px 2px rgba(0, 0, 0, 0.3));\n",
              "      fill: #FFFFFF;\n",
              "    }\n",
              "  </style>\n",
              "\n",
              "      <script>\n",
              "        const buttonEl =\n",
              "          document.querySelector('#df-f6512a8f-81df-4983-8c24-35b4febd12f3 button.colab-df-convert');\n",
              "        buttonEl.style.display =\n",
              "          google.colab.kernel.accessAllowed ? 'block' : 'none';\n",
              "\n",
              "        async function convertToInteractive(key) {\n",
              "          const element = document.querySelector('#df-f6512a8f-81df-4983-8c24-35b4febd12f3');\n",
              "          const dataTable =\n",
              "            await google.colab.kernel.invokeFunction('convertToInteractive',\n",
              "                                                     [key], {});\n",
              "          if (!dataTable) return;\n",
              "\n",
              "          const docLinkHtml = 'Like what you see? Visit the ' +\n",
              "            '<a target=\"_blank\" href=https://colab.research.google.com/notebooks/data_table.ipynb>data table notebook</a>'\n",
              "            + ' to learn more about interactive tables.';\n",
              "          element.innerHTML = '';\n",
              "          dataTable['output_type'] = 'display_data';\n",
              "          await google.colab.output.renderOutput(dataTable, element);\n",
              "          const docLink = document.createElement('div');\n",
              "          docLink.innerHTML = docLinkHtml;\n",
              "          element.appendChild(docLink);\n",
              "        }\n",
              "      </script>\n",
              "    </div>\n",
              "  </div>\n",
              "  "
            ]
          },
          "metadata": {},
          "execution_count": 3
        }
      ]
    },
    {
      "cell_type": "code",
      "source": [
        "# Definindo uma função para a plotagem e gráficos\n",
        "def plot_graph(data_frame, coluna):\n",
        "  '''\n",
        "  data_frame: Informar o data frame a ser utilizado.\n",
        "  coluna: Informar a coluna o ata frame a ser plotada\n",
        "  tamanho padrão de 16,5\n",
        "  printa a evolução do preço\n",
        "  '''\n",
        "  plt.style.use('seaborn-darkgrid')\n",
        "  plt.figure(figsize=(16,3))\n",
        "  plt.title(f'Preço historico de {coluna} R$')\n",
        "  plt.plot(data_frame[coluna]) \n",
        "  plt.xlabel('Data')\n",
        "  plt.ylabel('Preço R$')\n",
        "  plt.show()\n",
        "\n",
        "#Test the function\n",
        "plot_graph(data_frame,'High')"
      ],
      "metadata": {
        "colab": {
          "base_uri": "https://localhost:8080/",
          "height": 236
        },
        "id": "pjoh_7r0AJNV",
        "outputId": "fba59456-5bbc-4c82-f2c1-225963daa08c"
      },
      "execution_count": null,
      "outputs": [
        {
          "output_type": "display_data",
          "data": {
            "text/plain": [
              "<Figure size 1152x216 with 1 Axes>"
            ],
            "image/png": "[encoded data removed]"
          },
          "metadata": {}
        }
      ]
    },
    {
      "cell_type": "code",
      "source": [
        "def column_sep(data_frame, coluna):\n",
        "  col = data_frame[coluna].values\n",
        "  col = col.reshape(-1,1)\n",
        "  return col\n",
        "\n",
        "df_open = column_sep(data_frame, 'Open')\n",
        "df_high = column_sep(data_frame, 'High')\n",
        "df_low = column_sep(data_frame, 'Low')\n",
        "df_close = column_sep(data_frame, 'Close')"
      ],
      "metadata": {
        "id": "CMqlU3fJCdrk"
      },
      "execution_count": null,
      "outputs": []
    },
    {
      "cell_type": "code",
      "source": [
        "scaler_open = MinMaxScaler()\n",
        "scaler_high = MinMaxScaler()\n",
        "scaler_low = MinMaxScaler()\n",
        "scaler_close = MinMaxScaler()"
      ],
      "metadata": {
        "id": "1RI1GjJWBNbs"
      },
      "execution_count": null,
      "outputs": []
    },
    {
      "cell_type": "code",
      "source": [
        "df_open_scal = scaler_open.fit_transform(df_open)\n",
        "df_high_scal = scaler_high.fit_transform(df_high)\n",
        "df_low_scal = scaler_low.fit_transform(df_low)\n",
        "df_close_scal = scaler_close.fit_transform(df_close)"
      ],
      "metadata": {
        "id": "6BLTPnaXBu9O"
      },
      "execution_count": null,
      "outputs": []
    },
    {
      "cell_type": "code",
      "source": [
        "df_open_scal[0][0]"
      ],
      "metadata": {
        "colab": {
          "base_uri": "https://localhost:8080/"
        },
        "id": "TJRAHcFFIXRM",
        "outputId": "38a0e935-0f96-4ba7-a532-c3bb869b0960"
      },
      "execution_count": null,
      "outputs": [
        {
          "output_type": "execute_result",
          "data": {
            "text/plain": [
              "0.10622816276403207"
            ]
          },
          "metadata": {},
          "execution_count": 8
        }
      ]
    },
    {
      "cell_type": "code",
      "source": [
        "df_open_scal[:5]"
      ],
      "metadata": {
        "colab": {
          "base_uri": "https://localhost:8080/"
        },
        "id": "r9-79dNrIcp8",
        "outputId": "5f066910-c057-477d-9846-b81dc12d17b2"
      },
      "execution_count": null,
      "outputs": [
        {
          "output_type": "execute_result",
          "data": {
            "text/plain": [
              "array([[0.10622816],\n",
              "       [0.11142085],\n",
              "       [0.10361132],\n",
              "       [0.09746061],\n",
              "       [0.09923131]])"
            ]
          },
          "metadata": {},
          "execution_count": 9
        }
      ]
    },
    {
      "cell_type": "code",
      "source": [
        "df_high_scal[:5]"
      ],
      "metadata": {
        "colab": {
          "base_uri": "https://localhost:8080/"
        },
        "id": "iPPF-08kKKkY",
        "outputId": "043b2df6-cb4f-4abd-9fd1-c4773dab2a2a"
      },
      "execution_count": null,
      "outputs": [
        {
          "output_type": "execute_result",
          "data": {
            "text/plain": [
              "array([[0.10031816],\n",
              "       [0.10549922],\n",
              "       [0.09863704],\n",
              "       [0.09716787],\n",
              "       [0.09770718]])"
            ]
          },
          "metadata": {},
          "execution_count": 10
        }
      ]
    },
    {
      "cell_type": "code",
      "source": [
        "df_low_scal[:5]"
      ],
      "metadata": {
        "colab": {
          "base_uri": "https://localhost:8080/"
        },
        "id": "NvJLgVPGKTLR",
        "outputId": "d69e7af1-7417-4b18-d050-4e5fef6ed776"
      },
      "execution_count": null,
      "outputs": [
        {
          "output_type": "execute_result",
          "data": {
            "text/plain": [
              "array([[0.11375467],\n",
              "       [0.10828484],\n",
              "       [0.10282263],\n",
              "       [0.10451778],\n",
              "       [0.10668388]])"
            ]
          },
          "metadata": {},
          "execution_count": 11
        }
      ]
    },
    {
      "cell_type": "code",
      "source": [
        "df_close_scal[:5]"
      ],
      "metadata": {
        "colab": {
          "base_uri": "https://localhost:8080/"
        },
        "id": "g_ciMeKlKk9a",
        "outputId": "26a4860a-c76d-4eaf-a520-a7c125bd4b1b"
      },
      "execution_count": null,
      "outputs": [
        {
          "output_type": "execute_result",
          "data": {
            "text/plain": [
              "array([[0.11001228],\n",
              "       [0.10925775],\n",
              "       [0.10421507],\n",
              "       [0.10684847],\n",
              "       [0.10720336]])"
            ]
          },
          "metadata": {},
          "execution_count": 12
        }
      ]
    },
    {
      "cell_type": "code",
      "source": [
        "df_scal = list()\n",
        "intermed = list()\n",
        "\n",
        "for i in range(len(df_open_scal)):\n",
        "  intermed.append(df_open_scal[i][0])\n",
        "  intermed.append(df_high_scal[i][0])\n",
        "  intermed.append(df_low_scal[i][0])\n",
        "  intermed.append(df_close_scal[i][0])\n",
        "  intermed2 = intermed.copy()\n",
        "  df_scal.append(intermed2)\n",
        "  intermed.clear()\n",
        "\n",
        "df_scal = np.array(df_scal)\n",
        "df_scal[:5]"
      ],
      "metadata": {
        "colab": {
          "base_uri": "https://localhost:8080/"
        },
        "id": "Fij29JWlEHsI",
        "outputId": "ee30561f-faf5-40ba-f9fa-77721797dcbb"
      },
      "execution_count": null,
      "outputs": [
        {
          "output_type": "execute_result",
          "data": {
            "text/plain": [
              "array([[0.10622816, 0.10031816, 0.11375467, 0.11001228],\n",
              "       [0.11142085, 0.10549922, 0.10828484, 0.10925775],\n",
              "       [0.10361132, 0.09863704, 0.10282263, 0.10421507],\n",
              "       [0.09746061, 0.09716787, 0.10451778, 0.10684847],\n",
              "       [0.09923131, 0.09770718, 0.10668388, 0.10720336]])"
            ]
          },
          "metadata": {},
          "execution_count": 13
        }
      ]
    },
    {
      "cell_type": "code",
      "source": [
        "# separação entre os dados de entrada e os dados de saída\n",
        "def split_sequences(sequence, n_steps):\n",
        "  X, y = list(), list()\n",
        "  for i in range(len(sequence)):\n",
        "    end_ix = i + n_steps # encontrar o fim da sequencia\n",
        "    if end_ix >= len(sequence): # verificando se estamos no ultimo elemento previsivel do dataset\n",
        "      break\n",
        "    seq_x = sequence[i:end_ix]\n",
        "    seq_y = sequence[end_ix][1] \n",
        "    X.append(seq_x)\n",
        "    y.append(seq_y)\n",
        "  return np.array(X), np.array(y)"
      ],
      "metadata": {
        "id": "rekJ5k1KKZsY"
      },
      "execution_count": null,
      "outputs": []
    },
    {
      "cell_type": "code",
      "source": [
        "steps = 3\n",
        "X0, y0 = split_sequences(df_scal, steps)"
      ],
      "metadata": {
        "id": "pGV7-DqxK6Qt"
      },
      "execution_count": null,
      "outputs": []
    },
    {
      "cell_type": "code",
      "source": [
        "X0, y0"
      ],
      "metadata": {
        "colab": {
          "base_uri": "https://localhost:8080/"
        },
        "id": "NYk8VChaLCjc",
        "outputId": "444a26fe-846e-4115-a1e5-eae8945eabfa"
      },
      "execution_count": null,
      "outputs": [
        {
          "output_type": "execute_result",
          "data": {
            "text/plain": [
              "(array([[[0.10622816, 0.10031816, 0.11375467, 0.11001228],\n",
              "         [0.11142085, 0.10549922, 0.10828484, 0.10925775],\n",
              "         [0.10361132, 0.09863704, 0.10282263, 0.10421507]],\n",
              " \n",
              "        [[0.11142085, 0.10549922, 0.10828484, 0.10925775],\n",
              "         [0.10361132, 0.09863704, 0.10282263, 0.10421507],\n",
              "         [0.09746061, 0.09716787, 0.10451778, 0.10684847]],\n",
              " \n",
              "        [[0.10361132, 0.09863704, 0.10282263, 0.10421507],\n",
              "         [0.09746061, 0.09716787, 0.10451778, 0.10684847],\n",
              "         [0.09923131, 0.09770718, 0.10668388, 0.10720336]],\n",
              " \n",
              "        ...,\n",
              " \n",
              "        [[0.6202812 , 0.61368493, 0.62051142, 0.62044062],\n",
              "         [0.60675314, 0.60344528, 0.58845528, 0.5863177 ],\n",
              "         [0.58342889, 0.57691518, 0.57714134, 0.57603406]],\n",
              " \n",
              "        [[0.60675314, 0.60344528, 0.58845528, 0.5863177 ],\n",
              "         [0.58342889, 0.57691518, 0.57714134, 0.57603406],\n",
              "         [0.57036732, 0.56760639, 0.57148433, 0.56621787]],\n",
              " \n",
              "        [[0.58342889, 0.57691518, 0.57714134, 0.57603406],\n",
              "         [0.57036732, 0.56760639, 0.57148433, 0.56621787],\n",
              "         [0.55357383, 0.56248652, 0.5601704 , 0.56715277]]]),\n",
              " array([0.09716787, 0.09770718, 0.10789818, ..., 0.56760639, 0.56248652,\n",
              "        0.56062476]))"
            ]
          },
          "metadata": {},
          "execution_count": 16
        }
      ]
    },
    {
      "cell_type": "code",
      "source": [
        "train_size = int(len(data_frame)*0.7) # definindo o tamanho do conjunto de treino 70% dos dados\n",
        "X = X0[:train_size] # separando o conjunto de treino\n",
        "X_test = X0[train_size:] # separando o conjunto de teste\n",
        "y = y0[:train_size] # separando o conjunto de treino\n",
        "y_test = y0[train_size:] # separando o conjunto de teste\n",
        "\n",
        "# verificando se X está tridimensional\n",
        "X.shape"
      ],
      "metadata": {
        "colab": {
          "base_uri": "https://localhost:8080/"
        },
        "id": "9NZhQ-qFLQra",
        "outputId": "4b6b88a4-92e0-464f-da4d-e8425842d5b4"
      },
      "execution_count": null,
      "outputs": [
        {
          "output_type": "execute_result",
          "data": {
            "text/plain": [
              "(2639, 3, 4)"
            ]
          },
          "metadata": {},
          "execution_count": 17
        }
      ]
    },
    {
      "cell_type": "code",
      "source": [
        "model = Sequential() # definindo nosso modelo pelo função Sequencial da bib Keras\n",
        "model.add(LSTM(100, return_sequences=True, input_shape=(X.shape[1], 4))) # adicionando 100 camadas LSTM ao modelo, returb quer dizer que a saida tem o mesmo tamanho da entrada\n",
        "model.add(LSTM(100, return_sequences=False)) # mais 100 camadas queremos somente a ultima saida\n",
        "model.add(Dense(25)) # 25 camadas densas\n",
        "model.add(Dense(1)) # 1 camada de saida\n",
        "model.summary()"
      ],
      "metadata": {
        "colab": {
          "base_uri": "https://localhost:8080/"
        },
        "id": "UoeJ5XfRLnrl",
        "outputId": "25c5aad0-e3d3-4fa6-91a2-6d3eac08b05f"
      },
      "execution_count": null,
      "outputs": [
        {
          "output_type": "stream",
          "name": "stdout",
          "text": [
            "Model: \"sequential\"\n",
            "_________________________________________________________________\n",
            " Layer (type)                Output Shape              Param #   \n",
            "=================================================================\n",
            " lstm (LSTM)                 (None, 3, 100)            42000     \n",
            "                                                                 \n",
            " lstm_1 (LSTM)               (None, 100)               80400     \n",
            "                                                                 \n",
            " dense (Dense)               (None, 25)                2525      \n",
            "                                                                 \n",
            " dense_1 (Dense)             (None, 1)                 26        \n",
            "                                                                 \n",
            "=================================================================\n",
            "Total params: 124,951\n",
            "Trainable params: 124,951\n",
            "Non-trainable params: 0\n",
            "_________________________________________________________________\n"
          ]
        }
      ]
    },
    {
      "cell_type": "code",
      "source": [
        "model.compile(optimizer='adam', loss='mean_squared_error') # compilando a nossa rede com a função de perda MSE e otimizador ADAM\n",
        "model.fit(X, y, batch_size= 128, epochs=100) # O algoritmo vai rodar 10 vezes no conunto de treino"
      ],
      "metadata": {
        "colab": {
          "base_uri": "https://localhost:8080/"
        },
        "id": "u2dsYT6iLvU3",
        "outputId": "59fbdde3-c01d-44a7-d920-df27b552ccb5"
      },
      "execution_count": null,
      "outputs": [
        {
          "output_type": "stream",
          "name": "stdout",
          "text": [
            "Epoch 1/100\n",
            "21/21 [==============================] - 3s 13ms/step - loss: 0.0675\n",
            "Epoch 2/100\n",
            "21/21 [==============================] - 0s 22ms/step - loss: 0.0080\n",
            "Epoch 3/100\n",
            "21/21 [==============================] - 0s 20ms/step - loss: 0.0010\n",
            "Epoch 4/100\n",
            "21/21 [==============================] - 0s 20ms/step - loss: 2.4320e-04\n",
            "Epoch 5/100\n",
            "21/21 [==============================] - 0s 24ms/step - loss: 1.6984e-04\n",
            "Epoch 6/100\n",
            "21/21 [==============================] - 0s 22ms/step - loss: 1.5874e-04\n",
            "Epoch 7/100\n",
            "21/21 [==============================] - 0s 22ms/step - loss: 1.5619e-04\n",
            "Epoch 8/100\n",
            "21/21 [==============================] - 0s 22ms/step - loss: 1.5300e-04\n",
            "Epoch 9/100\n",
            "21/21 [==============================] - 0s 24ms/step - loss: 1.4888e-04\n",
            "Epoch 10/100\n",
            "21/21 [==============================] - 0s 21ms/step - loss: 1.4627e-04\n",
            "Epoch 11/100\n",
            "21/21 [==============================] - 0s 20ms/step - loss: 1.4414e-04\n",
            "Epoch 12/100\n",
            "21/21 [==============================] - 1s 26ms/step - loss: 1.4306e-04\n",
            "Epoch 13/100\n",
            "21/21 [==============================] - 0s 22ms/step - loss: 1.4098e-04\n",
            "Epoch 14/100\n",
            "21/21 [==============================] - 1s 27ms/step - loss: 1.4019e-04\n",
            "Epoch 15/100\n",
            "21/21 [==============================] - 0s 24ms/step - loss: 1.3959e-04\n",
            "Epoch 16/100\n",
            "21/21 [==============================] - 1s 25ms/step - loss: 1.4218e-04\n",
            "Epoch 17/100\n",
            "21/21 [==============================] - 0s 18ms/step - loss: 1.3538e-04\n",
            "Epoch 18/100\n",
            "21/21 [==============================] - 1s 26ms/step - loss: 1.3649e-04\n",
            "Epoch 19/100\n",
            "21/21 [==============================] - 1s 24ms/step - loss: 1.3796e-04\n",
            "Epoch 20/100\n",
            "21/21 [==============================] - 0s 22ms/step - loss: 1.3616e-04\n",
            "Epoch 21/100\n",
            "21/21 [==============================] - 0s 23ms/step - loss: 1.3316e-04\n",
            "Epoch 22/100\n",
            "21/21 [==============================] - 0s 23ms/step - loss: 1.3368e-04\n",
            "Epoch 23/100\n",
            "21/21 [==============================] - 0s 22ms/step - loss: 1.3301e-04\n",
            "Epoch 24/100\n",
            "21/21 [==============================] - 1s 26ms/step - loss: 1.3215e-04\n",
            "Epoch 25/100\n",
            "21/21 [==============================] - 0s 22ms/step - loss: 1.3160e-04\n",
            "Epoch 26/100\n",
            "21/21 [==============================] - 0s 20ms/step - loss: 1.3177e-04\n",
            "Epoch 27/100\n",
            "21/21 [==============================] - 0s 21ms/step - loss: 1.3148e-04\n",
            "Epoch 28/100\n",
            "21/21 [==============================] - 0s 18ms/step - loss: 1.3629e-04\n",
            "Epoch 29/100\n",
            "21/21 [==============================] - 0s 24ms/step - loss: 1.3165e-04\n",
            "Epoch 30/100\n",
            "21/21 [==============================] - 0s 21ms/step - loss: 1.3293e-04\n",
            "Epoch 31/100\n",
            "21/21 [==============================] - 0s 11ms/step - loss: 1.3118e-04\n",
            "Epoch 32/100\n",
            "21/21 [==============================] - 0s 10ms/step - loss: 1.3255e-04\n",
            "Epoch 33/100\n",
            "21/21 [==============================] - 0s 11ms/step - loss: 1.2961e-04\n",
            "Epoch 34/100\n",
            "21/21 [==============================] - 0s 12ms/step - loss: 1.3314e-04\n",
            "Epoch 35/100\n",
            "21/21 [==============================] - 0s 12ms/step - loss: 1.3668e-04\n",
            "Epoch 36/100\n",
            "21/21 [==============================] - 0s 11ms/step - loss: 1.4528e-04\n",
            "Epoch 37/100\n",
            "21/21 [==============================] - 0s 11ms/step - loss: 1.3230e-04\n",
            "Epoch 38/100\n",
            "21/21 [==============================] - 0s 12ms/step - loss: 1.3053e-04\n",
            "Epoch 39/100\n",
            "21/21 [==============================] - 0s 11ms/step - loss: 1.3099e-04\n",
            "Epoch 40/100\n",
            "21/21 [==============================] - 0s 11ms/step - loss: 1.3167e-04\n",
            "Epoch 41/100\n",
            "21/21 [==============================] - 0s 11ms/step - loss: 1.3267e-04\n",
            "Epoch 42/100\n",
            "21/21 [==============================] - 0s 11ms/step - loss: 1.2971e-04\n",
            "Epoch 43/100\n",
            "21/21 [==============================] - 0s 10ms/step - loss: 1.3293e-04\n",
            "Epoch 44/100\n",
            "21/21 [==============================] - 0s 11ms/step - loss: 1.3118e-04\n",
            "Epoch 45/100\n",
            "21/21 [==============================] - 0s 11ms/step - loss: 1.2893e-04\n",
            "Epoch 46/100\n",
            "21/21 [==============================] - 0s 11ms/step - loss: 1.3197e-04\n",
            "Epoch 47/100\n",
            "21/21 [==============================] - 0s 11ms/step - loss: 1.2867e-04\n",
            "Epoch 48/100\n",
            "21/21 [==============================] - 0s 11ms/step - loss: 1.3170e-04\n",
            "Epoch 49/100\n",
            "21/21 [==============================] - 0s 13ms/step - loss: 1.3114e-04\n",
            "Epoch 50/100\n",
            "21/21 [==============================] - 0s 11ms/step - loss: 1.3289e-04\n",
            "Epoch 51/100\n",
            "21/21 [==============================] - 0s 11ms/step - loss: 1.3412e-04\n",
            "Epoch 52/100\n",
            "21/21 [==============================] - 0s 11ms/step - loss: 1.3595e-04\n",
            "Epoch 53/100\n",
            "21/21 [==============================] - 0s 11ms/step - loss: 1.2808e-04\n",
            "Epoch 54/100\n",
            "21/21 [==============================] - 0s 11ms/step - loss: 1.2851e-04\n",
            "Epoch 55/100\n",
            "21/21 [==============================] - 0s 11ms/step - loss: 1.2801e-04\n",
            "Epoch 56/100\n",
            "21/21 [==============================] - 0s 11ms/step - loss: 1.3293e-04\n",
            "Epoch 57/100\n",
            "21/21 [==============================] - 0s 10ms/step - loss: 1.3267e-04\n",
            "Epoch 58/100\n",
            "21/21 [==============================] - 0s 12ms/step - loss: 1.2814e-04\n",
            "Epoch 59/100\n",
            "21/21 [==============================] - 0s 11ms/step - loss: 1.3020e-04\n",
            "Epoch 60/100\n",
            "21/21 [==============================] - 0s 10ms/step - loss: 1.2646e-04\n",
            "Epoch 61/100\n",
            "21/21 [==============================] - 0s 11ms/step - loss: 1.2916e-04\n",
            "Epoch 62/100\n",
            "21/21 [==============================] - 0s 11ms/step - loss: 1.2606e-04\n",
            "Epoch 63/100\n",
            "21/21 [==============================] - 0s 10ms/step - loss: 1.2744e-04\n",
            "Epoch 64/100\n",
            "21/21 [==============================] - 0s 11ms/step - loss: 1.2672e-04\n",
            "Epoch 65/100\n",
            "21/21 [==============================] - 0s 11ms/step - loss: 1.3653e-04\n",
            "Epoch 66/100\n",
            "21/21 [==============================] - 0s 11ms/step - loss: 1.2945e-04\n",
            "Epoch 67/100\n",
            "21/21 [==============================] - 0s 12ms/step - loss: 1.2897e-04\n",
            "Epoch 68/100\n",
            "21/21 [==============================] - 0s 11ms/step - loss: 1.3000e-04\n",
            "Epoch 69/100\n",
            "21/21 [==============================] - 0s 12ms/step - loss: 1.2661e-04\n",
            "Epoch 70/100\n",
            "21/21 [==============================] - 0s 11ms/step - loss: 1.2630e-04\n",
            "Epoch 71/100\n",
            "21/21 [==============================] - 0s 11ms/step - loss: 1.2484e-04\n",
            "Epoch 72/100\n",
            "21/21 [==============================] - 0s 11ms/step - loss: 1.4137e-04\n",
            "Epoch 73/100\n",
            "21/21 [==============================] - 0s 11ms/step - loss: 1.2494e-04\n",
            "Epoch 74/100\n",
            "21/21 [==============================] - 0s 10ms/step - loss: 1.2846e-04\n",
            "Epoch 75/100\n",
            "21/21 [==============================] - 0s 10ms/step - loss: 1.2692e-04\n",
            "Epoch 76/100\n",
            "21/21 [==============================] - 0s 12ms/step - loss: 1.2554e-04\n",
            "Epoch 77/100\n",
            "21/21 [==============================] - 0s 12ms/step - loss: 1.2521e-04\n",
            "Epoch 78/100\n",
            "21/21 [==============================] - 0s 12ms/step - loss: 1.3568e-04\n",
            "Epoch 79/100\n",
            "21/21 [==============================] - 0s 12ms/step - loss: 1.3049e-04\n",
            "Epoch 80/100\n",
            "21/21 [==============================] - 0s 11ms/step - loss: 1.2852e-04\n",
            "Epoch 81/100\n",
            "21/21 [==============================] - 0s 11ms/step - loss: 1.2456e-04\n",
            "Epoch 82/100\n",
            "21/21 [==============================] - 0s 14ms/step - loss: 1.2347e-04\n",
            "Epoch 83/100\n",
            "21/21 [==============================] - 0s 11ms/step - loss: 1.2908e-04\n",
            "Epoch 84/100\n",
            "21/21 [==============================] - 0s 11ms/step - loss: 1.3497e-04\n",
            "Epoch 85/100\n",
            "21/21 [==============================] - 0s 11ms/step - loss: 1.2694e-04\n",
            "Epoch 86/100\n",
            "21/21 [==============================] - 0s 12ms/step - loss: 1.3748e-04\n",
            "Epoch 87/100\n",
            "21/21 [==============================] - 0s 11ms/step - loss: 1.3881e-04\n",
            "Epoch 88/100\n",
            "21/21 [==============================] - 0s 11ms/step - loss: 1.2497e-04\n",
            "Epoch 89/100\n",
            "21/21 [==============================] - 0s 11ms/step - loss: 1.6423e-04\n",
            "Epoch 90/100\n",
            "21/21 [==============================] - 0s 11ms/step - loss: 1.4509e-04\n",
            "Epoch 91/100\n",
            "21/21 [==============================] - 0s 10ms/step - loss: 1.3355e-04\n",
            "Epoch 92/100\n",
            "21/21 [==============================] - 0s 12ms/step - loss: 1.2974e-04\n",
            "Epoch 93/100\n",
            "21/21 [==============================] - 0s 11ms/step - loss: 1.2815e-04\n",
            "Epoch 94/100\n",
            "21/21 [==============================] - 0s 11ms/step - loss: 1.2793e-04\n",
            "Epoch 95/100\n",
            "21/21 [==============================] - 0s 11ms/step - loss: 1.2516e-04\n",
            "Epoch 96/100\n",
            "21/21 [==============================] - 0s 11ms/step - loss: 1.2247e-04\n",
            "Epoch 97/100\n",
            "21/21 [==============================] - 0s 11ms/step - loss: 1.2205e-04\n",
            "Epoch 98/100\n",
            "21/21 [==============================] - 0s 12ms/step - loss: 1.3076e-04\n",
            "Epoch 99/100\n",
            "21/21 [==============================] - 0s 12ms/step - loss: 1.3170e-04\n",
            "Epoch 100/100\n",
            "21/21 [==============================] - 0s 12ms/step - loss: 1.3236e-04\n"
          ]
        },
        {
          "output_type": "execute_result",
          "data": {
            "text/plain": [
              "<keras.callbacks.History at 0x7ff4e76b7d10>"
            ]
          },
          "metadata": {},
          "execution_count": 19
        }
      ]
    },
    {
      "cell_type": "code",
      "source": [
        "predictions = model.predict(X_test)\n",
        "predictions = scaler_high.inverse_transform(predictions)\n",
        "predictions"
      ],
      "metadata": {
        "colab": {
          "base_uri": "https://localhost:8080/"
        },
        "id": "ac0D5bIOMNZI",
        "outputId": "19885248-b745-4542-f828-0f40e1cb7077"
      },
      "execution_count": null,
      "outputs": [
        {
          "output_type": "stream",
          "name": "stdout",
          "text": [
            "36/36 [==============================] - 1s 2ms/step\n"
          ]
        },
        {
          "output_type": "execute_result",
          "data": {
            "text/plain": [
              "array([[23.944965],\n",
              "       [23.925652],\n",
              "       [23.883898],\n",
              "       ...,\n",
              "       [15.871975],\n",
              "       [15.484705],\n",
              "       [15.248462]], dtype=float32)"
            ]
          },
          "metadata": {},
          "execution_count": 20
        }
      ]
    },
    {
      "cell_type": "code",
      "source": [
        "y_test = scaler_high.inverse_transform(y_test.reshape(-1, 1))\n",
        "y_test"
      ],
      "metadata": {
        "colab": {
          "base_uri": "https://localhost:8080/"
        },
        "id": "FWxSnXTNNgJp",
        "outputId": "99618807-dbed-40be-e75a-adf2a49beb08"
      },
      "execution_count": null,
      "outputs": [
        {
          "output_type": "execute_result",
          "data": {
            "text/plain": [
              "array([[24.06999969],\n",
              "       [23.96999931],\n",
              "       [24.20999908],\n",
              "       ...,\n",
              "       [15.27000046],\n",
              "       [15.15999985],\n",
              "       [15.11999989]])"
            ]
          },
          "metadata": {},
          "execution_count": 21
        }
      ]
    },
    {
      "cell_type": "code",
      "source": [
        "comp1 = pd.DataFrame(predictions)\n",
        "comp2 = pd.DataFrame(y_test)"
      ],
      "metadata": {
        "id": "FmJk9brWNSOM"
      },
      "execution_count": null,
      "outputs": []
    },
    {
      "cell_type": "code",
      "source": [
        "comp = pd.DataFrame()"
      ],
      "metadata": {
        "id": "ieAXvphK9sLT"
      },
      "execution_count": null,
      "outputs": []
    },
    {
      "cell_type": "code",
      "source": [
        "comp['teste'] = comp2\n",
        "comp['previsões'] = comp1"
      ],
      "metadata": {
        "id": "pOrLrfu0N7W6"
      },
      "execution_count": null,
      "outputs": []
    },
    {
      "cell_type": "code",
      "source": [
        "comp"
      ],
      "metadata": {
        "colab": {
          "base_uri": "https://localhost:8080/",
          "height": 424
        },
        "id": "Sj3AF1piPF_Y",
        "outputId": "a21caa45-ff33-44a7-8755-b364cf7513d0"
      },
      "execution_count": null,
      "outputs": [
        {
          "output_type": "execute_result",
          "data": {
            "text/plain": [
              "          teste  previsões\n",
              "0     24.070000  23.944965\n",
              "1     23.969999  23.925652\n",
              "2     24.209999  23.883898\n",
              "3     24.129999  23.873133\n",
              "4     24.200001  23.901310\n",
              "...         ...        ...\n",
              "1124  16.040001  16.342854\n",
              "1125  15.470000  16.153585\n",
              "1126  15.270000  15.871975\n",
              "1127  15.160000  15.484705\n",
              "1128  15.120000  15.248462\n",
              "\n",
              "[1129 rows x 2 columns]"
            ],
            "text/html": [
              "\n",
              "  <div id=\"df-377771e6-d893-4380-89da-1312bf81199a\">\n",
              "    <div class=\"colab-df-container\">\n",
              "      <div>\n",
              "<style scoped>\n",
              "    .dataframe tbody tr th:only-of-type {\n",
              "        vertical-align: middle;\n",
              "    }\n",
              "\n",
              "    .dataframe tbody tr th {\n",
              "        vertical-align: top;\n",
              "    }\n",
              "\n",
              "    .dataframe thead th {\n",
              "        text-align: right;\n",
              "    }\n",
              "</style>\n",
              "<table border=\"1\" class=\"dataframe\">\n",
              "  <thead>\n",
              "    <tr style=\"text-align: right;\">\n",
              "      <th></th>\n",
              "      <th>teste</th>\n",
              "      <th>previsões</th>\n",
              "    </tr>\n",
              "  </thead>\n",
              "  <tbody>\n",
              "    <tr>\n",
              "      <th>0</th>\n",
              "      <td>24.070000</td>\n",
              "      <td>23.944965</td>\n",
              "    </tr>\n",
              "    <tr>\n",
              "      <th>1</th>\n",
              "      <td>23.969999</td>\n",
              "      <td>23.925652</td>\n",
              "    </tr>\n",
              "    <tr>\n",
              "      <th>2</th>\n",
              "      <td>24.209999</td>\n",
              "      <td>23.883898</td>\n",
              "    </tr>\n",
              "    <tr>\n",
              "      <th>3</th>\n",
              "      <td>24.129999</td>\n",
              "      <td>23.873133</td>\n",
              "    </tr>\n",
              "    <tr>\n",
              "      <th>4</th>\n",
              "      <td>24.200001</td>\n",
              "      <td>23.901310</td>\n",
              "    </tr>\n",
              "    <tr>\n",
              "      <th>...</th>\n",
              "      <td>...</td>\n",
              "      <td>...</td>\n",
              "    </tr>\n",
              "    <tr>\n",
              "      <th>1124</th>\n",
              "      <td>16.040001</td>\n",
              "      <td>16.342854</td>\n",
              "    </tr>\n",
              "    <tr>\n",
              "      <th>1125</th>\n",
              "      <td>15.470000</td>\n",
              "      <td>16.153585</td>\n",
              "    </tr>\n",
              "    <tr>\n",
              "      <th>1126</th>\n",
              "      <td>15.270000</td>\n",
              "      <td>15.871975</td>\n",
              "    </tr>\n",
              "    <tr>\n",
              "      <th>1127</th>\n",
              "      <td>15.160000</td>\n",
              "      <td>15.484705</td>\n",
              "    </tr>\n",
              "    <tr>\n",
              "      <th>1128</th>\n",
              "      <td>15.120000</td>\n",
              "      <td>15.248462</td>\n",
              "    </tr>\n",
              "  </tbody>\n",
              "</table>\n",
              "<p>1129 rows × 2 columns</p>\n",
              "</div>\n",
              "      <button class=\"colab-df-convert\" onclick=\"convertToInteractive('df-377771e6-d893-4380-89da-1312bf81199a')\"\n",
              "              title=\"Convert this dataframe to an interactive table.\"\n",
              "              style=\"display:none;\">\n",
              "        \n",
              "  <svg xmlns=\"http://www.w3.org/2000/svg\" height=\"24px\"viewBox=\"0 0 24 24\"\n",
              "       width=\"24px\">\n",
              "    <path d=\"M0 0h24v24H0V0z\" fill=\"none\"/>\n",
              "    <path d=\"M18.56 5.44l.94 2.06.94-2.06 2.06-.94-2.06-.94-.94-2.06-.94 2.06-2.06.94zm-11 1L8.5 8.5l.94-2.06 2.06-.94-2.06-.94L8.5 2.5l-.94 2.06-2.06.94zm10 10l.94 2.06.94-2.06 2.06-.94-2.06-.94-.94-2.06-.94 2.06-2.06.94z\"/><path d=\"M17.41 7.96l-1.37-1.37c-.4-.4-.92-.59-1.43-.59-.52 0-1.04.2-1.43.59L10.3 9.45l-7.72 7.72c-.78.78-.78 2.05 0 2.83L4 21.41c.39.39.9.59 1.41.59.51 0 1.02-.2 1.41-.59l7.78-7.78 2.81-2.81c.8-.78.8-2.07 0-2.86zM5.41 20L4 18.59l7.72-7.72 1.47 1.35L5.41 20z\"/>\n",
              "  </svg>\n",
              "      </button>\n",
              "      \n",
              "  <style>\n",
              "    .colab-df-container {\n",
              "      display:flex;\n",
              "      flex-wrap:wrap;\n",
              "      gap: 12px;\n",
              "    }\n",
              "\n",
              "    .colab-df-convert {\n",
              "      background-color: #E8F0FE;\n",
              "      border: none;\n",
              "      border-radius: 50%;\n",
              "      cursor: pointer;\n",
              "      display: none;\n",
              "      fill: #1967D2;\n",
              "      height: 32px;\n",
              "      padding: 0 0 0 0;\n",
              "      width: 32px;\n",
              "    }\n",
              "\n",
              "    .colab-df-convert:hover {\n",
              "      background-color: #E2EBFA;\n",
              "      box-shadow: 0px 1px 2px rgba(60, 64, 67, 0.3), 0px 1px 3px 1px rgba(60, 64, 67, 0.15);\n",
              "      fill: #174EA6;\n",
              "    }\n",
              "\n",
              "    [theme=dark] .colab-df-convert {\n",
              "      background-color: #3B4455;\n",
              "      fill: #D2E3FC;\n",
              "    }\n",
              "\n",
              "    [theme=dark] .colab-df-convert:hover {\n",
              "      background-color: #434B5C;\n",
              "      box-shadow: 0px 1px 3px 1px rgba(0, 0, 0, 0.15);\n",
              "      filter: drop-shadow(0px 1px 2px rgba(0, 0, 0, 0.3));\n",
              "      fill: #FFFFFF;\n",
              "    }\n",
              "  </style>\n",
              "\n",
              "      <script>\n",
              "        const buttonEl =\n",
              "          document.querySelector('#df-377771e6-d893-4380-89da-1312bf81199a button.colab-df-convert');\n",
              "        buttonEl.style.display =\n",
              "          google.colab.kernel.accessAllowed ? 'block' : 'none';\n",
              "\n",
              "        async function convertToInteractive(key) {\n",
              "          const element = document.querySelector('#df-377771e6-d893-4380-89da-1312bf81199a');\n",
              "          const dataTable =\n",
              "            await google.colab.kernel.invokeFunction('convertToInteractive',\n",
              "                                                     [key], {});\n",
              "          if (!dataTable) return;\n",
              "\n",
              "          const docLinkHtml = 'Like what you see? Visit the ' +\n",
              "            '<a target=\"_blank\" href=https://colab.research.google.com/notebooks/data_table.ipynb>data table notebook</a>'\n",
              "            + ' to learn more about interactive tables.';\n",
              "          element.innerHTML = '';\n",
              "          dataTable['output_type'] = 'display_data';\n",
              "          await google.colab.output.renderOutput(dataTable, element);\n",
              "          const docLink = document.createElement('div');\n",
              "          docLink.innerHTML = docLinkHtml;\n",
              "          element.appendChild(docLink);\n",
              "        }\n",
              "      </script>\n",
              "    </div>\n",
              "  </div>\n",
              "  "
            ]
          },
          "metadata": {},
          "execution_count": 32
        }
      ]
    },
    {
      "cell_type": "code",
      "source": [
        "data_frame['High'][train_size:]"
      ],
      "metadata": {
        "colab": {
          "base_uri": "https://localhost:8080/"
        },
        "id": "7JOF133h4dDq",
        "outputId": "bab70bdd-39b5-4d51-897f-e5ba3ef9188a"
      },
      "execution_count": null,
      "outputs": [
        {
          "output_type": "execute_result",
          "data": {
            "text/plain": [
              "Date\n",
              "2018-03-22 00:00:00-03:00    24.080000\n",
              "2018-03-23 00:00:00-03:00    24.150000\n",
              "2018-03-26 00:00:00-03:00    24.150000\n",
              "2018-03-27 00:00:00-03:00    24.070000\n",
              "2018-03-28 00:00:00-03:00    23.969999\n",
              "                               ...    \n",
              "2022-10-07 00:00:00-03:00    16.040001\n",
              "2022-10-10 00:00:00-03:00    15.470000\n",
              "2022-10-11 00:00:00-03:00    15.270000\n",
              "2022-10-13 00:00:00-03:00    15.160000\n",
              "2022-10-14 00:00:00-03:00    15.120000\n",
              "Name: High, Length: 1132, dtype: float64"
            ]
          },
          "metadata": {},
          "execution_count": 30
        }
      ]
    },
    {
      "cell_type": "code",
      "source": [
        "rmse = np.sqrt(np.mean(predictions - y_test)**2)\n",
        "rmse"
      ],
      "metadata": {
        "colab": {
          "base_uri": "https://localhost:8080/"
        },
        "id": "UZBvpNXkPWNx",
        "outputId": "88ec5db0-a1f2-4a9e-f252-d2b6a0b5eddb"
      },
      "execution_count": null,
      "outputs": [
        {
          "output_type": "execute_result",
          "data": {
            "text/plain": [
              "0.07237532795584231"
            ]
          },
          "metadata": {},
          "execution_count": 33
        }
      ]
    },
    {
      "cell_type": "code",
      "source": [
        "data = data_frame['High']\n",
        "train = data[:train_size]\n",
        "validation = pd.DataFrame(data[train_size+3:])\n",
        "validation['Predictions'] = predictions\n",
        "plt.figure(figsize=(16,8))\n",
        "plt.title('Model')\n",
        "plt.xlabel('Date')\n",
        "plt.ylabel('Close Price USD ($)')\n",
        "plt.plot(train)\n",
        "plt.plot(validation[['High', 'Predictions']])\n",
        "plt.legend(['Train', 'Val', 'Predictions'], loc='lower right')\n",
        "plt.show()"
      ],
      "metadata": {
        "colab": {
          "base_uri": "https://localhost:8080/",
          "height": 508
        },
        "id": "p6YERjvtPfuc",
        "outputId": "89add74e-3d15-47cf-c49a-73399ddf3995"
      },
      "execution_count": null,
      "outputs": [
        {
          "output_type": "display_data",
          "data": {
            "text/plain": [
              "<Figure size 1152x576 with 1 Axes>"
            ],
            "image/png": "[encoded data removed]"
          },
          "metadata": {}
        }
      ]
    },
    {
      "cell_type": "markdown",
      "source": [
        "garantir que os termos comparados estão equivalentes"
      ],
      "metadata": {
        "id": "LjP9l0vV4oRE"
      }
    },
    {
      "cell_type": "code",
      "source": [],
      "metadata": {
        "id": "-75Ackzt4oAP"
      },
      "execution_count": null,
      "outputs": []
    }
  ]
}